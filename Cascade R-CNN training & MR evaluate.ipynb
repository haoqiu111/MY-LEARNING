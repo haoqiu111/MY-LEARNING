{
 "cells": [
  {
   "cell_type": "code",
   "execution_count": null,
   "metadata": {},
   "outputs": [],
   "source": [
    "import torch, torchvision\n",
    "print(torch.__version__, torch.cuda.is_available())\n",
    "\n",
    "import mmdet\n",
    "print(mmdet.__version__)\n",
    "\n",
    "from mmcv.ops import get_compiling_cuda_version, get_compiler_version\n",
    "print(get_compiling_cuda_version())\n",
    "print(get_compiler_version())"
   ]
  },
  {
   "cell_type": "code",
   "execution_count": null,
   "metadata": {},
   "outputs": [],
   "source": [
    "from mmdet.apis import inference_detector, init_detector, show_result_pyplot\n",
    "\n",
    "# Choose to use a config and initialize the detector\n",
    "config = 'mmdetection/configs/hrnet/cascade_rcnn_hrnetv2p_w32_20e_coco.py'\n",
    "# Setup a checkpoint file to load\n",
    "checkpoint = 'mmdetection/checkpoints/cascade_rcnn_hrnetv2p_w32_20e_coco_20200208-928455a4.pth'\n",
    "# initialize the detector\n",
    "model = init_detector(config, checkpoint, device='cuda:0')"
   ]
  },
  {
   "cell_type": "code",
   "execution_count": null,
   "metadata": {},
   "outputs": [],
   "source": [
    "img = 'mmdetection/demo/demo-person.png'\n",
    "result = inference_detector(model, img)"
   ]
  },
  {
   "cell_type": "code",
   "execution_count": null,
   "metadata": {},
   "outputs": [],
   "source": [
    "show_result_pyplot(model, img, result, score_thr=0.3)"
   ]
  },
  {
   "cell_type": "code",
   "execution_count": null,
   "metadata": {},
   "outputs": [],
   "source": [
    "import os\n",
    "import cv2\n",
    "import re\n",
    "import glob\n",
    "import time\n",
    "import json\n",
    "import mmcv\n",
    "import shutil\n",
    "import random\n",
    "import argparse\n",
    "import os.path as osp\n",
    "import numpy as np\n",
    "import pycocotools.mask as maskUtils\n",
    "import xml.etree.ElementTree as ET\n",
    "import cityscapesscripts.helpers.labels as CSLabels\n",
    "from mmdet.datasets import build_dataset\n",
    "from mmdet.models import build_detector\n",
    "from mmdet.apis import train_detector\n",
    "from typing import Dict, List\n",
    "from PIL import Image\n",
    "from collections import defaultdict, OrderedDict\n",
    "from mmdet.apis import inference_detector, init_detector, show_result_pyplot"
   ]
  },
  {
   "cell_type": "code",
   "execution_count": null,
   "metadata": {},
   "outputs": [],
   "source": [
    "!pip install cityscapesscripts --index-url https://pypi.douban.com/simple \n",
    "!pip install pycocotools --index-url https://pypi.douban.com/simple "
   ]
  },
  {
   "cell_type": "code",
   "execution_count": null,
   "metadata": {},
   "outputs": [],
   "source": [
    "%%writefile labels.txt\n",
    "pedestrian"
   ]
  },
  {
   "cell_type": "code",
   "execution_count": null,
   "metadata": {},
   "outputs": [],
   "source": [
    "from mmcv import Config\n",
    "cfg = Config.fromfile('mmdetection/configs/hrnet/cascade_rcnn_hrnetv2p_w32_20e_coco.py')"
   ]
  },
  {
   "cell_type": "code",
   "execution_count": null,
   "metadata": {},
   "outputs": [],
   "source": [
    "from mmdet.apis import set_random_seed\n",
    "\n",
    "# Modify dataset type and path\n",
    "cfg.dataset_type = 'CocoDataset'\n",
    "cfg.classes = 'labels.txt'\n",
    "cfg.data_root = 'citypersons'\n",
    "# cfg.model.bbox_head.num_classes = 1\n",
    "cfg.model.roi_head.bbox_head[0].num_classes = 1\n",
    "cfg.model.roi_head.bbox_head[1].num_classes = 1\n",
    "cfg.model.roi_head.bbox_head[2].num_classes = 1\n",
    "cfg.data.test.type = 'CocoDataset'\n",
    "cfg.data.test.classes = 'labels.txt'\n",
    "cfg.data.test.data_root = 'citypersons'\n",
    "cfg.data.test.ann_file = 'val_gt.json'\n",
    "cfg.data.test.img_prefix = 'val'\n",
    "cfg.data.train.type = 'CocoDataset'\n",
    "cfg.data.train.data_root = 'citypersons'\n",
    "cfg.data.train.ann_file = 'train_gt.json'\n",
    "cfg.data.train.img_prefix = 'train'\n",
    "cfg.data.train.classes = 'labels.txt'\n",
    "cfg.data.val.type = 'CocoDataset'\n",
    "cfg.data.val.data_root = 'citypersons'\n",
    "cfg.data.val.ann_file = 'val_gt.json'\n",
    "cfg.data.val.img_prefix = 'val'\n",
    "cfg.data.val.classes = 'labels.txt'\n",
    "\n",
    "# modify num classes of the model in box head\n",
    "# cfg.model.roi_head.bbox_head.num_classes = 1\n",
    "# We can still use the pre-trained Mask RCNN model though we do not need to\n",
    "# use the mask branch\n",
    "cfg.load_from = 'mmdetection/checkpoints/cascade_rcnn_hrnetv2p_w32_20e_coco_20200208-928455a4.pth'\n",
    "\n",
    "# Set up working dir to save files and logs.\n",
    "cfg.work_dir = './'\n",
    "\n",
    "# The original learning rate (LR) is set for 8-GPU training.\n",
    "# We divide it by 8 since we only use one GPU.\n",
    "cfg.optimizer.lr = 0.01 / 8\n",
    "cfg.optimizer_config.grad_clip = dict(max_norm=35, norm_type=2)\n",
    "# cfg.lr_config.warmup = None\n",
    "# cfg.lr_config.policy = 'cyclic'\n",
    "# cfg.log_config.interval = 10\n",
    "cfg.lr_config.policy = 'step'\n",
    "cfg.lr_config.step = 7\n",
    "cfg.data.samples_per_gpu = 1\n",
    "cfg.data.workers_per_gpu = 1\n",
    "cfg.evaluation.metric = 'bbox'\n",
    "cfg.evaluation.interval = 1\n",
    "cfg.checkpoint_config.interval = 1\n",
    "cfg.runner.max_epochs = 1\n",
    "cfg.log_config.interval = 100\n",
    "\n",
    "cfg.seed = 0\n",
    "set_random_seed(0, deterministic=False)\n",
    "cfg.gpu_ids = range(1)\n",
    "cfg.device = 'cuda'\n",
    "\n",
    "# We can initialize the logger for training and have a look\n",
    "# at the final config used for training\n",
    "print(f'Config:\\n{cfg.pretty_text}')"
   ]
  },
  {
   "cell_type": "code",
   "execution_count": null,
   "metadata": {},
   "outputs": [],
   "source": [
    "datasets = [build_dataset(cfg.data.train)]\n",
    "model = build_detector(\n",
    " cfg.model, train_cfg=cfg.get('train_cfg'), test_cfg=cfg.get('test_cfg'))\n",
    "model.CLASSES = datasets[0].CLASSES\n",
    "\n",
    "mmcv.mkdir_or_exist(osp.abspath(cfg.work_dir))\n",
    "train_detector(model, datasets, cfg, distributed=False, validate=True)"
   ]
  },
  {
   "cell_type": "code",
   "execution_count": null,
   "metadata": {},
   "outputs": [],
   "source": [
    "results = []\n",
    "model = init_detector(cfg, 'epoch_1.pth')\n",
    "items = os.listdir(\"citypersons/val/\")\n",
    "for item in items:\n",
    "    img = mmcv.imread(\"citypersons/val/\"+item)\n",
    "    result = inference_detector(model, img)\n",
    "    results.append(result)\n",
    "    show_result_pyplot(model, img, result)"
   ]
  },
  {
   "cell_type": "code",
   "execution_count": null,
   "metadata": {},
   "outputs": [],
   "source": [
    "START_BOUNDING_BOX_ID = 1\n",
    "PRE_DEFINE_CATEGORIES = {}\n",
    "categories = PRE_DEFINE_CATEGORIES\n",
    "width = int(2048)\n",
    "height = int(1024)\n",
    "bnd_id = START_BOUNDING_BOX_ID\n",
    "json_dict = {\"images\":[], \"type\": \"instances\", \"annotations\": [],\n",
    "            \"categories\": []}\n",
    "def get_filename_as_int(filename):\n",
    "    try:\n",
    "        filename = os.path.splitext(filename)[0]\n",
    "        filename = filename.split('_')[1] + filename.split('_')[2]\n",
    "        return int(filename)\n",
    "    except:\n",
    "        raise NotImplementedError('Filename %s is supposed to be an integer.'%(filename))\n",
    "\n",
    "results = []\n",
    "model = init_detector(cfg, 'mmdetection/checkpoints/epoch_72.pth')\n",
    "items = os.listdir(\"citypersons/val/\")\n",
    "ids = 1\n",
    "for item in items:\n",
    "    img = mmcv.imread(\"citypersons/val/\"+item)\n",
    "    result = inference_detector(model, img)          \n",
    "    image_id = get_filename_as_int(item)\n",
    "    image = {'file_name': item, 'height': height, 'width': width,\n",
    "             'id': ids}\n",
    "    json_dict['images'].append(image)\n",
    "    for i in result[0]:\n",
    "        xmin = int(float(i[0]))\n",
    "        ymin = int(float(i[1]))\n",
    "        xmax = int(float(i[2]))\n",
    "        ymax = int(float(i[3]))\n",
    "        scores = float(i[4])\n",
    "        o_width = xmax-xmin\n",
    "        o_height = ymax-ymin\n",
    "        bbox = [xmin,ymin,o_width,o_height] \n",
    "        ann = {'area': o_width*o_height, 'iscrowd': 0, 'image_id':\n",
    "                ids, 'bbox':bbox,\n",
    "                'category_id': 1, 'id': bnd_id, 'ignore': 0,\n",
    "                'segmentation': [], 'height': o_height, 'score': scores}\n",
    "        json_dict['annotations'].append(ann)\n",
    "        bnd_id = bnd_id + 1\n",
    "    ids += 1\n",
    "with open('val_dt_cascade72.json', 'w') as json_fp:\n",
    "    json_str1 = json.dumps(json_dict)\n",
    "    json_fp.write(json_str1)\n",
    "    \n",
    "with open('resFile_cascade72.json', 'w') as json_res:\n",
    "    json_str2 = json.dumps(json_dict['annotations'])\n",
    "    json_res.write(json_str2)"
   ]
  },
  {
   "cell_type": "code",
   "execution_count": null,
   "metadata": {},
   "outputs": [],
   "source": [
    "from coco import COCO\n",
    "from eval_MR_multisetup import COCOeval\n",
    "\n",
    "annType = 'bbox'      #specify type here\n",
    "print ('Running demo for *%s* results.'%(annType))\n",
    "\n",
    "#initialize COCO ground truth api\n",
    "annFile = 'val_gt.json'\n",
    "# initialize COCO detections api\n",
    "resFile = 'resFile_cascade72.json'\n",
    "\n",
    "## running evaluation\n",
    "res_file = open(\"results-cascade-72epochs.txt\", \"w\")\n",
    "for id_setup in range(0,4):\n",
    "    cocoGt = COCO(annFile)\n",
    "    cocoDt = cocoGt.loadRes(resFile)\n",
    "    imgIds = sorted(cocoGt.getImgIds())\n",
    "    cocoEval = COCOeval(cocoGt,cocoDt,annType)\n",
    "    cocoEval.params.imgIds  = imgIds\n",
    "    cocoEval.evaluate(id_setup)\n",
    "    cocoEval.accumulate()\n",
    "    cocoEval.summarize(id_setup,res_file)\n",
    "\n",
    "res_file.close()"
   ]
  }
 ],
 "metadata": {
  "kernelspec": {
   "display_name": "Python 3",
   "language": "python",
   "name": "python3"
  },
  "language_info": {
   "codemirror_mode": {
    "name": "ipython",
    "version": 3
   },
   "file_extension": ".py",
   "mimetype": "text/x-python",
   "name": "python",
   "nbconvert_exporter": "python",
   "pygments_lexer": "ipython3",
   "version": "3.7.3"
  }
 },
 "nbformat": 4,
 "nbformat_minor": 2
}
