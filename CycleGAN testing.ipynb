{
 "cells": [
  {
   "cell_type": "code",
   "execution_count": 1,
   "id": "d0b97597-e747-480b-80e4-9bff4c5cc7f0",
   "metadata": {},
   "outputs": [
    {
     "name": "stdout",
     "output_type": "stream",
     "text": [
      "/home/xiaoguo/anaconda3/envs/mmgen/mmgeneration\n"
     ]
    }
   ],
   "source": [
    "import os\n",
    "%cd /home/xiaoguo/anaconda3/envs/mmgen/mmgeneration/"
   ]
  },
  {
   "cell_type": "code",
   "execution_count": 2,
   "id": "976bbd7e-50f6-4d73-bd1d-98fd46917cce",
   "metadata": {},
   "outputs": [],
   "source": [
    "import cv2\n",
    "import matplotlib.pyplot as plt\n",
    "%matplotlib inline\n",
    "def show_img_from_path(img_path):\n",
    "    img = cv2.imread(img_path)\n",
    "    img_RGB = cv2.cvtColor(img, cv2.COLOR_BGR2RGB)\n",
    "    plt.imshow(img_RGB)\n",
    "    plt.show()"
   ]
  },
  {
   "cell_type": "code",
   "execution_count": 3,
   "id": "dcd19e51-bf74-4475-9f38-50fbd192dfb9",
   "metadata": {},
   "outputs": [
    {
     "name": "stderr",
     "output_type": "stream",
     "text": [
      "/home/xiaoguo/anaconda3/envs/mmgen/lib/python3.8/site-packages/mmcv/__init__.py:20: UserWarning: On January 1, 2023, MMCV will release v2.0.0, in which it will remove components related to the training process and add a data transformation module. In addition, it will rename the package names mmcv to mmcv-lite and mmcv-full to mmcv. See https://github.com/open-mmlab/mmcv/blob/master/docs/en/compatibility.md for more details.\n",
      "  warnings.warn(\n"
     ]
    }
   ],
   "source": [
    "from mmgen.apis import init_model, sample_img2img_model\n",
    "import cv2\n",
    "import numpy as np\n",
    "import matplotlib.pyplot as plt\n",
    "%matplotlib inline"
   ]
  },
  {
   "cell_type": "code",
   "execution_count": 4,
   "id": "b77eff65-487c-457f-87bc-b5f3086dea15",
   "metadata": {},
   "outputs": [],
   "source": [
    "config_file = 'configs/cyclegan/cyclegan_lsgan_resnet_in_facades_b1x1_80k_kitti2city.py'\n",
    "checkpoint_file = 'checkpoints/kitti2city/last_iter_80000.pth'\n",
    "img_size = 256"
   ]
  },
  {
   "cell_type": "code",
   "execution_count": 5,
   "id": "dd693be9-21d9-4630-926f-c16103ec9518",
   "metadata": {},
   "outputs": [
    {
     "name": "stderr",
     "output_type": "stream",
     "text": [
      "/home/xiaoguo/anaconda3/envs/mmgen/lib/python3.8/site-packages/mmcv/cnn/bricks/conv_module.py:153: UserWarning: Unnecessary conv bias before batch/instance norm\n",
      "  warnings.warn(\n"
     ]
    },
    {
     "name": "stdout",
     "output_type": "stream",
     "text": [
      "load checkpoint from local path: checkpoints/kitti2city/last_iter_80000.pth\n"
     ]
    }
   ],
   "source": [
    "model = init_model(config_file, checkpoint_file, device='cuda:0')"
   ]
  },
  {
   "cell_type": "code",
   "execution_count": 6,
   "id": "91bf683c-bec6-4e9c-b87c-7df368b602f7",
   "metadata": {},
   "outputs": [],
   "source": [
    "def gen_vis_fake_img(input_path, model, target_domain='city', figsize=15, save_path='outputs/1.jpg'):\n",
    "    \n",
    "    input_img = cv2.imread(input_path)\n",
    "    \n",
    "    fake_imgs = sample_img2img_model(model, input_path, target_domain=target_domain)\n",
    "    \n",
    "    img_size1 = fake_imgs.shape[2]\n",
    "    img_size2 = fake_imgs.shape[3]\n",
    "\n",
    "    \n",
    "    RGB = np.zeros((img_size1, img_size2, 3))\n",
    "    RGB[:,:,0] = fake_imgs[0][2]\n",
    "    RGB[:,:,1] = fake_imgs[0][1]\n",
    "    RGB[:,:,2] = fake_imgs[0][0]\n",
    "    \n",
    "    RGB = cv2.resize(RGB, dsize=(input_img.shape[1],input_img.shape[0]))\n",
    "    \n",
    "    RGB = 255 * (RGB - RGB.min()) / (RGB.max()-RGB.min())\n",
    "    \n",
    "    RGB = RGB.astype('uint8')\n",
    "    \n",
    "    if save_path:\n",
    "        \n",
    "        cv2.imwrite(save_path, cv2.cvtColor(RGB, cv2.COLOR_BGR2RGB))\n",
    "\n",
    "    plt.figure(figsize=(figsize, figsize))\n",
    "    \n",
    "    plt.subplot(1,2,1)\n",
    "    plt.title('bdd100k')\n",
    "    input_RGB = cv2.cvtColor(input_img, cv2.COLOR_BGR2RGB)\n",
    "    plt.xticks([])\n",
    "    plt.yticks([])\n",
    "    plt.imshow(input_RGB)\n",
    "\n",
    "\n",
    "    plt.subplot(1,2,2)\n",
    "    plt.title(target_domain)\n",
    "    plt.xticks([])\n",
    "    plt.yticks([])\n",
    "    plt.imshow(RGB)\n",
    "\n",
    "    plt.show()"
   ]
  },
  {
   "cell_type": "code",
   "execution_count": 7,
   "id": "071b8443-4ee1-4d1c-9822-68c1aaa15455",
   "metadata": {},
   "outputs": [],
   "source": [
    "photo_path = '/home/xiaoguo/input/YOLO2COCO/citypersons/train'\n",
    "os.chdir(photo_path)\n",
    "for each in os.listdir():\n",
    "    try:\n",
    "        gen_vis_fake_img(each, model, target_domain='kitti', figsize=8, save_path='../city2kitti_train/'+each)\n",
    "    except:\n",
    "        pass\n",
    "os.chdir('../../')"
   ]
  },
  {
   "cell_type": "code",
   "execution_count": 8,
   "id": "4d700685",
   "metadata": {},
   "outputs": [],
   "source": [
    "photo_path = '/home/xiaoguo/input/YOLO2COCO/citypersons/val'\n",
    "os.chdir(photo_path)\n",
    "for each in os.listdir():\n",
    "    try:\n",
    "        gen_vis_fake_img(each, model, target_domain='kitti', figsize=8, save_path='../city2kitti_val/'+each)\n",
    "    except:\n",
    "        pass\n",
    "os.chdir('../../')"
   ]
  }
 ],
 "metadata": {
  "kernelspec": {
   "display_name": "Python 3 (ipykernel)",
   "language": "python",
   "name": "python3"
  },
  "language_info": {
   "codemirror_mode": {
    "name": "ipython",
    "version": 3
   },
   "file_extension": ".py",
   "mimetype": "text/x-python",
   "name": "python",
   "nbconvert_exporter": "python",
   "pygments_lexer": "ipython3",
   "version": "3.7.16"
  }
 },
 "nbformat": 4,
 "nbformat_minor": 5
}
